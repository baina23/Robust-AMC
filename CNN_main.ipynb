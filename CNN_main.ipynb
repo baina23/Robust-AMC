{
 "cells": [
  {
   "cell_type": "code",
   "execution_count": 60,
   "id": "bb26c203",
   "metadata": {},
   "outputs": [],
   "source": [
    "import numpy as np\n",
    "import matplotlib.pyplot as plt\n",
    "%matplotlib inline\n",
    "\n",
    "import datetime\n",
    "import warnings\n",
    "import os, random\n",
    "warnings.filterwarnings(\"ignore\")\n",
    "\n",
    "import torch\n",
    "import torch.nn as nn\n",
    "import torch.optim as optim\n",
    "import torch.nn.functional as F\n",
    "\n",
    "from models import CNN\n",
    "from models import RNN\n",
    "from models import AUTOENCODER\n",
    "from attacks import gradient_wrt_data\n",
    "from attacks import FGSM_Linf_attack\n",
    "from attacks import FGSM_L2_attack\n",
    "from utilities import *\n",
    "\n",
    "\n",
    "#from torchsummary import summary\n",
    "from sklearn.metrics import confusion_matrix\n",
    "from sklearn.metrics import classification_report\n",
    "from torch.utils.data import DataLoader, TensorDataset\n",
    "from scipy.interpolate import make_interp_spline"
   ]
  },
  {
   "cell_type": "code",
   "execution_count": 52,
   "id": "b10b5de7",
   "metadata": {},
   "outputs": [
    {
     "name": "stdout",
     "output_type": "stream",
     "text": [
      "1\n",
      "Current Device:  cuda\n",
      "Quadro RTX 6000\n"
     ]
    }
   ],
   "source": [
    "seed = 5\n",
    "np.random.seed(seed)\n",
    "torch.manual_seed(seed)\n",
    "\n",
    "os.environ[\"CUDA_DEVICE_ORDER\"]=\"PCI_BUS_ID\"\n",
    "os.environ[\"CUDA_VISIBLE_DEVICES\"]=\"2\"  # specify which GPU(s) to be used\n",
    "device = torch.device(\"cuda\" if torch.cuda.is_available() else \"cpu\")\n",
    "print(torch.cuda.device_count())\n",
    "print(\"Current Device: \", device)\n",
    "print(torch.cuda.get_device_name(torch.cuda.current_device()))"
   ]
  },
  {
   "cell_type": "code",
   "execution_count": 68,
   "id": "21d9c1c9",
   "metadata": {},
   "outputs": [],
   "source": [
    "filename = \"RML2016.10b.dat\"\n",
    "snrs, mods, X, labels = process_data(filename)"
   ]
  },
  {
   "cell_type": "code",
   "execution_count": 69,
   "id": "b1d28b18",
   "metadata": {},
   "outputs": [],
   "source": [
    "curr_model = \"CNN\"\n",
    "\n",
    "#subsample = 1\n",
    "subsample = 2\n",
    "# subsample = 4\n",
    "#subsample = 8"
   ]
  },
  {
   "cell_type": "code",
   "execution_count": 70,
   "id": "ea8f1790",
   "metadata": {},
   "outputs": [
    {
     "name": "stdout",
     "output_type": "stream",
     "text": [
      "torch.Size([480000, 1, 2, 64])\n",
      "torch.Size([120000, 1, 2, 64])\n",
      "torch.Size([480000])\n",
      "torch.Size([120000])\n"
     ]
    }
   ],
   "source": [
    "x_train0, x_test0, y_train, y_test, test_labels, test_idx = train_test_split(X, labels, mods, NN = curr_model)\n",
    "\n",
    "#####################################################################\n",
    "x_train = x_train0[:,:,:,::subsample]\n",
    "x_test = x_test0[:,:,:,::subsample]\n",
    "####################################################################\n",
    "\n",
    "print(x_train.shape)\n",
    "print(x_test.shape)\n",
    "print(y_train.shape)\n",
    "print(y_test.shape)"
   ]
  },
  {
   "cell_type": "code",
   "execution_count": 71,
   "id": "8b93037e",
   "metadata": {},
   "outputs": [],
   "source": [
    "if curr_model == \"CNN\" :\n",
    "    batch_size = 256    \n",
    "    if subsample == 1 : \n",
    "        model = CNN(input_size = 128).to(device = device)\n",
    "        model_checkpoint = \"CNN_base.pt\"\n",
    "    if subsample == 2 :\n",
    "        model = CNN(input_size = 64).to(device = device)\n",
    "        model_checkpoint = \"CNN_base_sub12.pt\"\n",
    "    if subsample == 4 :\n",
    "        model = CNN(input_size = 32).to(device = device)\n",
    "        model_checkpoint = \"CNN_base_sub14.pt\"\n",
    "    if subsample == 8 :\n",
    "        model = CNN(input_size = 16).to(device = device)\n",
    "        model_checkpoint = \"CNN_base_sub18.pt\"\n",
    "\n",
    "num_epochs = 100\n",
    "criterion  = nn.CrossEntropyLoss()\n",
    "optimizer  = optim.Adam(model.parameters(), lr = 0.001)\n",
    "\n",
    "train_dataset = TensorDataset(x_train, y_train.type(torch.LongTensor))\n",
    "test_dataset  = TensorDataset(x_test,  y_test.type(torch.LongTensor))\n",
    "\n",
    "TrainLoader = DataLoader(train_dataset, batch_size = batch_size, \n",
    "                         shuffle = False)\n",
    "TestLoader  = DataLoader(test_dataset,  batch_size = batch_size, \n",
    "                         shuffle = False)"
   ]
  },
  {
   "cell_type": "markdown",
   "id": "eb5c66f8",
   "metadata": {},
   "source": [
    "### Baseline Model Training"
   ]
  },
  {
   "cell_type": "code",
   "execution_count": null,
   "id": "cc2f9655",
   "metadata": {},
   "outputs": [],
   "source": [
    "num_epochs   = 100\n",
    "best_val_acc = 0.\n",
    "criterion    = nn.CrossEntropyLoss()\n",
    "optimizer    = optim.Adam(model.parameters(), lr = 0.001)\n",
    "\n",
    "for epoch in range(num_epochs) :\n",
    "    model.train()\n",
    "    train_epoch_loss = 0.\n",
    "    train_epoch_acc  = 0.\n",
    "    for batch_idx, (data, labels) in enumerate(TrainLoader) :\n",
    "        data   = data.to(device)\n",
    "        labels = labels.to(device)\n",
    "        \n",
    "        optimizer.zero_grad()\n",
    "        outputs = model(data)\n",
    "        loss    = criterion(outputs, labels)\n",
    "        acc     = evaluate_accuracy(outputs, labels)\n",
    "        loss.backward()\n",
    "        optimizer.step()\n",
    "        \n",
    "        train_epoch_loss += loss.item()\n",
    "        train_epoch_acc  += acc.item()\n",
    "    \n",
    "    with torch.no_grad() :\n",
    "        model.eval()\n",
    "        val_epoch_loss = 0.\n",
    "        val_epoch_acc  = 0.\n",
    "        \n",
    "        for X_val_batch, y_val_batch in TestLoader :\n",
    "            X_val_batch = X_val_batch.to(device)\n",
    "            y_val_batch = y_val_batch.to(device)\n",
    "            \n",
    "            y_val_pred = model(X_val_batch)\n",
    "            \n",
    "            val_loss = criterion(y_val_pred, y_val_batch)\n",
    "            val_acc  = evaluate_accuracy(y_val_pred, y_val_batch)\n",
    "            \n",
    "            val_epoch_loss += val_loss.item()\n",
    "            val_epoch_acc  += val_acc.item()\n",
    "    \n",
    "    avg_train_loss = float(train_epoch_loss) / len(TrainLoader)\n",
    "    avg_train_acc  = float(train_epoch_acc) / len(TrainLoader)\n",
    "    avg_val_loss   = float(val_epoch_loss) / len(TestLoader)\n",
    "    avg_val_acc    = float(val_epoch_acc) / len(TestLoader)\n",
    "    \n",
    "    print(f'Epoch {epoch+1}: | Train Acc: {avg_train_acc:.3f} | Test Acc: {avg_val_acc:.3f}')\n",
    "    \n",
    "    if avg_val_acc > best_val_acc :\n",
    "        print(\"Saving Model Checkpoint......\")\n",
    "        best_val_acc = avg_val_acc\n",
    "        torch.save(model.state_dict(), model_checkpoint)\n",
    "\n",
    "print(\"Training Complete!\")"
   ]
  },
  {
   "cell_type": "code",
   "execution_count": null,
   "id": "3347ab06",
   "metadata": {},
   "outputs": [],
   "source": [
    "##########################################################################"
   ]
  },
  {
   "cell_type": "markdown",
   "id": "12de8925",
   "metadata": {},
   "source": [
    "### Baseline Model Testing"
   ]
  },
  {
   "cell_type": "code",
   "execution_count": 55,
   "id": "efe6a915",
   "metadata": {},
   "outputs": [],
   "source": [
    "cnn_net1 = CNN()\n",
    "cnn_net2 = CNN(input_size=64)\n",
    "cnn_net8 = CNN(input_size=16)\n",
    "cnn_net1.load_state_dict(torch.load(\"CNN_base.pt\"))\n",
    "cnn_net2.load_state_dict(torch.load(\"CNN_base_sub12.pt\"))\n",
    "cnn_net8.load_state_dict(torch.load(\"CNN_base_sub18.pt\"))\n",
    "cnn_net1 = cnn_net1.to(device)\n",
    "cnn_net2 = cnn_net2.to(device)\n",
    "cnn_net8 = cnn_net8.to(device)"
   ]
  },
  {
   "cell_type": "code",
   "execution_count": null,
   "id": "89b8a7c1",
   "metadata": {},
   "outputs": [],
   "source": [
    "cnn_acc1, cnn_loss1, y_preds1 = evaluate_model(cnn_net1, TestLoader, device)\n",
    "y_test_np = y_test.cpu().numpy()\n",
    "print(\"CNN_base Accuracy = %.4f\" % cnn_acc1)\n",
    "# print(type(y_preds))\n",
    "# print(type(y_test_np))\n",
    "# print(y_preds.shape)\n",
    "# print(y_test_np.shape)"
   ]
  },
  {
   "cell_type": "code",
   "execution_count": null,
   "id": "0105c402",
   "metadata": {},
   "outputs": [],
   "source": [
    "plot_confusion_matrix(y_tests = y_test.cpu().numpy(), \n",
    "                      y_preds = y_preds, mods = mods)"
   ]
  },
  {
   "cell_type": "code",
   "execution_count": 61,
   "id": "d186fe90",
   "metadata": {},
   "outputs": [
    {
     "data": {
      "text/plain": [
       "[]"
      ]
     },
     "execution_count": 61,
     "metadata": {},
     "output_type": "execute_result"
    },
    {
     "data": {
      "image/png": "[encoded data removed]",
      "text/plain": [
       "<Figure size 432x288 with 1 Axes>"
      ]
     },
     "metadata": {
      "needs_background": "light"
     },
     "output_type": "display_data"
    }
   ],
   "source": [
    "x_train2, x_test2 = x_train0[:,:,:,::2], x_test0[:,:,:,::2]\n",
    "x_train8, x_test8 = x_train0[:,:,:,::8], x_test0[:,:,:,::8]\n",
    "acc_dict1 = plot_snr_accuracy(cnn_net1, x_test0, labels, test_labels, test_idx, snrs, mods, device)\n",
    "plt.plot(label = 'No Samples')\n",
    "acc_dict2 = plot_snr_accuracy(cnn_net2, x_test2, labels, test_labels, test_idx, snrs, mods, device)\n",
    "plt.plot(label = '1/2 Samples')\n",
    "acc_dict8 = plot_snr_accuracy(cnn_net8, x_test8, labels, test_labels, test_idx, snrs, mods, device)\n",
    "plt.plot(label = '1/8 Samples')"
   ]
  },
  {
   "cell_type": "code",
   "execution_count": null,
   "id": "ec3886a8",
   "metadata": {},
   "outputs": [],
   "source": [
    "###########################################################################"
   ]
  },
  {
   "cell_type": "markdown",
   "id": "dfe7c593",
   "metadata": {},
   "source": [
    "### Adversarial Attacks"
   ]
  },
  {
   "cell_type": "code",
   "execution_count": 80,
   "id": "4bd4ead3",
   "metadata": {},
   "outputs": [],
   "source": [
    "# EPS for FGSM attack\n",
    "curr_attack = \"FGSM_Linfinity\"\n",
    "eps_values = np.array([0.000, 0.001, 0.002, 0.003, 0.005, 0.007, \n",
    "                       0.010, 0.020, 0.030])\n",
    "fgsm_acc = np.zeros(len(eps_values))\n",
    "fgsm_art_acc = np.zeros(len(eps_values))"
   ]
  },
  {
   "cell_type": "code",
   "execution_count": 83,
   "id": "9617d0a4",
   "metadata": {},
   "outputs": [],
   "source": [
    "# EPS for FGM L2 attack\n",
    "curr_attack = \"FGSM_L2\"\n",
    "eps_values = np.array([0.00, 0.01, 0.02, 0.04, 0.06, 0.08, 0.10, \n",
    "                       0.20, 0.30, 0.40, 0.50])\n",
    "fgm_acc = np.zeros(len(eps_values))\n",
    "fgm_art_acc = np.zeros(len(eps_values))"
   ]
  },
  {
   "cell_type": "code",
   "execution_count": 85,
   "id": "85e4a6e6",
   "metadata": {},
   "outputs": [
    {
     "name": "stdout",
     "output_type": "stream",
     "text": [
      "Current ATK_EPS Index = 1\n",
      "Current ATK_EPS Index = 2\n",
      "Current ATK_EPS Index = 3\n",
      "Current ATK_EPS Index = 4\n",
      "Current ATK_EPS Index = 5\n",
      "Current ATK_EPS Index = 6\n",
      "Current ATK_EPS Index = 7\n",
      "Current ATK_EPS Index = 8\n",
      "Current ATK_EPS Index = 9\n",
      "Current ATK_EPS Index = 10\n",
      "Current ATK_EPS Index = 11\n",
      "Attack Done!\n",
      "[0.873975   0.67265    0.60540833 0.5442     0.50801667 0.47680833\n",
      " 0.44433333 0.28264167 0.19341667 0.164425   0.15573333]\n"
     ]
    }
   ],
   "source": [
    "whitebox = CNN(input_size=64)\n",
    "\n",
    "#whitebox.load_state_dict(torch.load(\"CNN_base_sub12.pt\"))\n",
    "\n",
    "#whitebox.load_state_dict(torch.load(\"CNN_FGSM_ART_sub12.pt\"))\n",
    "whitebox.load_state_dict(torch.load(\"CNN_FGML2_ART_sub12.pt\"))\n",
    "\n",
    "whitebox = whitebox.to(device)\n",
    "whitebox.eval()\n",
    "for i in range(len(eps_values)) :\n",
    "    print(\"Current ATK_EPS Index = \" + str(i + 1))\n",
    "    ATK_EPS   = eps_values[i]\n",
    "    whitebox_correct = 0\n",
    "    running_total    = 0\n",
    "    for batch_idx, (data, labels) in enumerate(TestLoader) :\n",
    "        data   = data.to(device)\n",
    "        labels = labels.to(device)\n",
    "        \n",
    "        #################################################################\n",
    "        if curr_attack == \"FGSM_Linfinity\" :\n",
    "            # Fast Gradient Sign Method (FGSM) L-infinity Norm Attack\n",
    "            adv_data = FGSM_Linf_attack(whitebox, device, data, \n",
    "                                        labels, eps = ATK_EPS)\n",
    "        if curr_attack == \"FGSM_L2\" :\n",
    "            # Fast Gradient Sign Method (FGSM) L-2 Norm Attack\n",
    "            adv_data = FGSM_L2_attack(whitebox, device, data, labels, \n",
    "                                      eps = ATK_EPS)\n",
    "        #################################################################\n",
    "        \n",
    "        # Compute accuracy on perturbed data\n",
    "        with torch.no_grad() :\n",
    "            whitebox_outputs  = whitebox(adv_data)\n",
    "            _, whitebox_preds = whitebox_outputs.max(1)\n",
    "            whitebox_correct += whitebox_preds.eq(labels).sum().item()\n",
    "            running_total    += labels.size(0)\n",
    "    \n",
    "    whitebox_acc = float(whitebox_correct) / running_total\n",
    "    \n",
    "    if curr_attack == \"FGSM_Linfinity\" :\n",
    "        #fgsm_acc[i] = whitebox_acc\n",
    "        fgsm_art_acc[i] = whitebox_acc\n",
    "    if curr_attack == \"FGSM_L2\" :\n",
    "        #fgm_acc[i] = whitebox_acc\n",
    "        fgm_art_acc[i] = whitebox_acc\n",
    "\n",
    "print(\"Attack Done!\")\n",
    "print(fgm_art_acc)"
   ]
  },
  {
   "cell_type": "code",
   "execution_count": 78,
   "id": "b9b68cb6",
   "metadata": {},
   "outputs": [
    {
     "name": "stdout",
     "output_type": "stream",
     "text": [
      "[0.88895833 0.5662     0.46883333 0.36074167 0.195175   0.13670833\n",
      " 0.12288333 0.09525    0.09901667]\n"
     ]
    }
   ],
   "source": [
    "print(fgsm_art_acc)"
   ]
  },
  {
   "cell_type": "code",
   "execution_count": null,
   "id": "4dbb69fb",
   "metadata": {},
   "outputs": [],
   "source": [
    "def plot_summary (base_acc, art_acc, detect_acc, eps_values, eps_values_T) :\n",
    "    figure, axis = plt.subplots()\n",
    "    # base_Spline = make_interp_spline(eps_values, base_acc)\n",
    "    # art_Spline = make_interp_spline(eps_values, art_acc)\n",
    "    detect_Spline = make_interp_spline(eps_values_T, detect_acc)\n",
    "    # X0_ = np.linspace(eps_values.min(),eps_values.max(),20)\n",
    "    X1_ = np.linspace(eps_values_T.min(),eps_values_T.max(),20)\n",
    "    # base = base_Spline(X0_)\n",
    "    # art = art_Spline(X0_)\n",
    "    detect = detect_Spline(X1_)\n",
    "\n",
    "    axis.plot(eps_values, base_acc,   label = \"BASE\", linewidth = 3)\n",
    "    axis.plot(eps_values, art_acc,    label = \"ART\",  linewidth = 3)\n",
    "    axis.plot(X1_, detect, label = \"DECT\", linewidth = 3)\n",
    "    axis.set_xlabel(\"EPS\", fontsize = 12)\n",
    "    axis.set_ylabel(\"ACC\", fontsize = 12)\n",
    "    axis.set_title(\"No Subsampling\", fontsize = 12)\n",
    "    axis.grid()\n",
    "    figure.set_size_inches(6, 4)\n",
    "    plt.xticks(fontsize = 12)\n",
    "    plt.yticks(fontsize = 12)\n",
    "    plt.legend(fontsize = 12)\n",
    "    plt.show()\n",
    "    return None"
   ]
  },
  {
   "cell_type": "code",
   "execution_count": null,
   "id": "c2d49610",
   "metadata": {},
   "outputs": [],
   "source": [
    "eps_values_0 = np.array([0.000, 0.001, 0.002, 0.003, 0.005, 0.007, \n",
    "                       0.010, 0.020, 0.030])\n",
    "\n",
    "fgsm_acc = np.array([0.90775833, 0.52973333, 0.35055833, 0.248125, 0.14935, \n",
    "                     0.12344167, 0.10616667, 0.08269167, 0.09775833])\n",
    "\n",
    "fgsm_art_acc = np.array([0.89946667, 0.66180833, 0.64145833, 0.592725,   0.49783333, 0.47271667,\n",
    "                        0.42183333, 0.127275, 0.08095])\n",
    "\n",
    "eps_values_T0 = np.array([0, 0.001, 0.002, 0.003, 0.005, 0.007, 0.010, 0.012, 0.017, 0.022, \n",
    "                        0.027, 0.030])\n",
    "\n",
    "detect0_acc = np.array([0, 0.007266666666666667, 0.012493333333333334, 0.03602, 0.2676733333333333, \n",
    "                       0.5352466666666666, 0.7463066666666667, 0.8421333333333333, 0.9984266666666667, 1.0, 1.0, 1.0])\n",
    "\n",
    "eps_values_1 = np.array([0.00, 0.01, 0.02, 0.04, 0.06, 0.08, 0.10, \n",
    "                       0.20, 0.30, 0.40, 0.50])\n",
    "\n",
    "fgm_acc = np.array([0.90775833, 0.59928333, 0.49648333, 0.28905833, \n",
    "                    0.22471667, 0.20176667, 0.19169167, 0.16296667, 0.13998333, \n",
    "                    0.12625833, 0.11841667])\n",
    "\n",
    "fgm_art_acc = np.array([0.90353333, 0.71053333, 0.65710833, 0.601575,   0.57029167, 0.54256667,\n",
    "                        0.51161667, 0.28706667, 0.16754167, 0.12459167, 0.11054167])\n",
    "\n",
    "detect1_acc = np.array([0.007655555555555555, 0.026455555555555555, 0.21103333333333332, 0.4010888888888889, 0.5513888888888889, \n",
    "                        0.6603222222222223, 0.7446, 0.8098666666666666, 0.8561555555555556, 0.8914888888888889, 0.9173222222222223])\n",
    "\n",
    "eps_values_T1 = np.array([0.00, 0.05, 0.1, 0.15, 0.2, 0.25, 0.3, \n",
    "                       0.35, 0.4, 0.45, 0.50])\n",
    "\n"
   ]
  },
  {
   "cell_type": "code",
   "execution_count": null,
   "id": "125f1dff",
   "metadata": {},
   "outputs": [],
   "source": [
    "eps_values_0 = np.array([0.000, 0.001, 0.002, 0.003, 0.005, 0.007, \n",
    "                       0.010, 0.020, 0.030])\n",
    "\n",
    "fgsm_acc = np.array([0.88895833, 0.5662,     0.46883333, 0.36074167, 0.195175,   0.13670833,\n",
    "                    0.12288333, 0.09525,    0.09901667])\n",
    "\n",
    "fgsm_art_acc = np.array([0.873,      0.62846667, 0.550975,   0.4847,     0.37970833, 0.31566667,\n",
    "                    0.27445833, 0.11316667, 0.09768333])\n",
    "\n",
    "eps_values_T0 = np.array([0, 0.001, 0.002, 0.003, 0.005, 0.007, 0.010, 0.012, 0.017, 0.022, \n",
    "                        0.027, 0.030])\n",
    "\n",
    "detect0_acc = np.array([0, 0.007266666666666667, 0.012493333333333334, 0.03602, 0.2676733333333333, \n",
    "                       0.5352466666666666, 0.7463066666666667, 0.8421333333333333, 0.9984266666666667, 1.0, 1.0, 1.0])\n",
    "\n",
    "eps_values_1 = np.array([0.00, 0.01, 0.02, 0.04, 0.06, 0.08, 0.10, \n",
    "                       0.20, 0.30, 0.40, 0.50])\n",
    "\n",
    "fgm_acc = np.array([0.88895833, 0.57163333, 0.41284167, 0.257725,   0.20806667, 0.17810833,\n",
    "                    0.15861667, 0.12185,    0.11030833, 0.106225,   0.1036    ])\n",
    "\n",
    "fgm_art_acc = np.array([0.873975,   0.67265,    0.60540833,  0.5442,     0.50801667, 0.47680833,\n",
    "                        0.44433333, 0.28264167, 0.19341667, 0.164425,   0.15573333])\n",
    "\n",
    "detect1_acc = np.array([0.007655555555555555, 0.026455555555555555, 0.21103333333333332, 0.4010888888888889, 0.5513888888888889, \n",
    "                        0.6603222222222223, 0.7446, 0.8098666666666666, 0.8561555555555556, 0.8914888888888889, 0.9173222222222223])\n",
    "\n",
    "eps_values_T1 = np.array([0.00, 0.05, 0.1, 0.15, 0.2, 0.25, 0.3, \n",
    "                       0.35, 0.4, 0.45, 0.50])"
   ]
  },
  {
   "cell_type": "code",
   "execution_count": null,
   "id": "e10d4e69",
   "metadata": {},
   "outputs": [],
   "source": [
    "\n",
    "plot_summary(fgsm_acc, fgsm_art_acc, detect0_acc, eps_values_0, eps_values_T0)"
   ]
  },
  {
   "cell_type": "code",
   "execution_count": null,
   "id": "22068367",
   "metadata": {},
   "outputs": [],
   "source": [
    "plot_summary(fgm_acc, fgm_art_acc, detect1_acc, eps_values_1, eps_values_T1)"
   ]
  },
  {
   "cell_type": "code",
   "execution_count": null,
   "id": "5cab99ec",
   "metadata": {},
   "outputs": [],
   "source": [
    "#########################################################################"
   ]
  },
  {
   "cell_type": "markdown",
   "id": "0a4bcffe",
   "metadata": {},
   "source": [
    "### Adversarial Retraining (Mitigation) & Manifold Learning (Detection)"
   ]
  },
  {
   "cell_type": "code",
   "execution_count": 82,
   "id": "b1df5096",
   "metadata": {
    "scrolled": true
   },
   "outputs": [
    {
     "name": "stdout",
     "output_type": "stream",
     "text": [
      "Epoch 1: | Train Acc: 51.709 | Test Acc: 86.966\n",
      "Saving Model Checkpoint......\n",
      "Epoch 2: | Train Acc: 55.917 | Test Acc: 86.891\n",
      "Epoch 3: | Train Acc: 56.921 | Test Acc: 87.064\n",
      "Saving Model Checkpoint......\n",
      "Epoch 4: | Train Acc: 57.379 | Test Acc: 87.002\n",
      "Epoch 5: | Train Acc: 57.721 | Test Acc: 87.384\n",
      "Saving Model Checkpoint......\n",
      "Adversarial Retraining Complete!\n"
     ]
    }
   ],
   "source": [
    "model = CNN(input_size = 64)\n",
    "model.load_state_dict(torch.load(\"CNN_base_sub12.pt\"))\n",
    "model = model.to(device)\n",
    "#model_checkpoint = \"CNN_FGSM_ART_sub12.pt\"\n",
    "model_checkpoint = \"CNN_FGML2_ART_sub12.pt\"\n",
    "\n",
    "num_epochs   = 5\n",
    "best_val_acc = 0.\n",
    "criterion    = nn.CrossEntropyLoss()\n",
    "optimizer    = optim.Adam(model.parameters(), lr = 0.001)\n",
    "\n",
    "for epoch in range(num_epochs) :\n",
    "    model.train()\n",
    "    train_epoch_loss = 0.\n",
    "    train_epoch_acc  = 0.\n",
    "    for batch_idx, (data, labels) in enumerate(TrainLoader) :\n",
    "        data   = data.to(device)\n",
    "        labels = labels.to(device)\n",
    "        \n",
    "        optimizer.zero_grad()\n",
    "        \n",
    "        # #######################################################################\n",
    "        # # FGSM L-infinity Adversarial Retraining\n",
    "        # adv1_data = FGSM_Linf_attack(model, device, data, labels, eps = 0.001)\n",
    "        # adv2_data = FGSM_Linf_attack(model, device, data, labels, eps = 0.002)\n",
    "        # adv3_data = FGSM_Linf_attack(model, device, data, labels, eps = 0.003)\n",
    "        # adv4_data = FGSM_Linf_attack(model, device, data, labels, eps = 0.005)\n",
    "        # adv5_data = FGSM_Linf_attack(model, device, data, labels, eps = 0.007)\n",
    "        # adv6_data = FGSM_Linf_attack(model, device, data, labels, eps = 0.010)\n",
    "        \n",
    "        # adjdata = torch.vstack((adv1_data, adv2_data, adv3_data, \n",
    "        #                         adv4_data, adv5_data, adv6_data))\n",
    "        # adjlabels = torch.cat((labels, labels, labels, \n",
    "        #                        labels, labels, labels))\n",
    "        \n",
    "        # outputs = model(adjdata)\n",
    "        # loss = criterion(outputs, adjlabels)\n",
    "        # acc = evaluate_accuracy(outputs, adjlabels)\n",
    "        # #######################################################################\n",
    "        \n",
    "        #######################################################################\n",
    "        # FGSM L-2 Adversarial Retraining\n",
    "        adv1_data = FGSM_L2_attack(model, device, data, labels, eps = 0.01)\n",
    "        adv2_data = FGSM_L2_attack(model, device, data, labels, eps = 0.02)\n",
    "        adv3_data = FGSM_L2_attack(model, device, data, labels, eps = 0.04)\n",
    "        adv4_data = FGSM_L2_attack(model, device, data, labels, eps = 0.06)\n",
    "        adv5_data = FGSM_L2_attack(model, device, data, labels, eps = 0.08)\n",
    "        adv6_data = FGSM_L2_attack(model, device, data, labels, eps = 0.10)\n",
    "        \n",
    "        adjdata = torch.vstack((adv1_data, adv2_data, adv3_data, \n",
    "                                adv4_data, adv5_data, adv6_data))\n",
    "        adjlabels = torch.cat((labels, labels, labels, \n",
    "                               labels, labels, labels))\n",
    "        \n",
    "        outputs = model(adjdata)\n",
    "        loss = criterion(outputs, adjlabels)\n",
    "        acc = evaluate_accuracy(outputs, adjlabels)\n",
    "        #######################################################################\n",
    "        \n",
    "        \n",
    "        \n",
    "        \n",
    "        loss.backward()\n",
    "        optimizer.step()\n",
    "        \n",
    "        train_epoch_loss += loss.item()\n",
    "        train_epoch_acc  += acc.item()\n",
    "    \n",
    "    with torch.no_grad() :\n",
    "        model.eval()\n",
    "        val_epoch_loss = 0.\n",
    "        val_epoch_acc  = 0.\n",
    "        \n",
    "        for X_val_batch, y_val_batch in TestLoader :\n",
    "            X_val_batch = X_val_batch.to(device)\n",
    "            y_val_batch = y_val_batch.to(device)\n",
    "            \n",
    "            y_val_pred = model(X_val_batch)\n",
    "            \n",
    "            val_loss = criterion(y_val_pred, y_val_batch)\n",
    "            val_acc  = evaluate_accuracy(y_val_pred, y_val_batch)\n",
    "            \n",
    "            val_epoch_loss += val_loss.item()\n",
    "            val_epoch_acc  += val_acc.item()\n",
    "    \n",
    "    avg_train_loss = float(train_epoch_loss) / len(TrainLoader)\n",
    "    avg_train_acc  = float(train_epoch_acc) / len(TrainLoader)\n",
    "    avg_val_loss   = float(val_epoch_loss) / len(TestLoader)\n",
    "    avg_val_acc    = float(val_epoch_acc) / len(TestLoader)\n",
    "    \n",
    "    print(f'Epoch {epoch+1}: | Train Acc: {avg_train_acc:.3f} | Test Acc: {avg_val_acc:.3f}')\n",
    "    \n",
    "    #torch.save(model.state_dict(), model_checkpoint)\n",
    "    \n",
    "    if avg_val_acc > best_val_acc :\n",
    "        print(\"Saving Model Checkpoint......\")\n",
    "        best_val_acc = avg_val_acc\n",
    "        torch.save(model.state_dict(), model_checkpoint)\n",
    "\n",
    "print(\"Adversarial Retraining Complete!\")"
   ]
  },
  {
   "cell_type": "markdown",
   "id": "4cbe247d",
   "metadata": {},
   "source": [
    "### Autoencoder Training"
   ]
  },
  {
   "cell_type": "code",
   "execution_count": null,
   "id": "30353adf",
   "metadata": {},
   "outputs": [],
   "source": [
    "model = AUTOENCODER()\n",
    "model.to(device)\n",
    "model_checkpoint = \"AUTOENCODER.pt\"\n",
    "\n",
    "num_epochs = 100\n",
    "criterion  = nn.MSELoss()\n",
    "optimizer  = optim.SGD(model.parameters(), lr = 0.001)\n",
    "batch_size = 256\n",
    "\n",
    "train_dataset = TensorDataset(x_train, x_train)\n",
    "test_dataset  = TensorDataset(x_test,  x_test)\n",
    "\n",
    "TrainLoader = DataLoader(train_dataset, batch_size = batch_size, \n",
    "                         shuffle = False)\n",
    "TestLoader  = DataLoader(test_dataset,  batch_size = batch_size, \n",
    "                         shuffle = False)\n",
    "\n",
    "best_val_loss = 1.\n",
    "\n",
    "for epoch in range(num_epochs) :\n",
    "    model.train()\n",
    "    train_epoch_loss = 0.\n",
    "    for batch_idx, (data, lbs) in enumerate(TrainLoader) :\n",
    "        data   = data.to(device)\n",
    "        lbs = lbs.to(device)\n",
    "        \n",
    "        optimizer.zero_grad()\n",
    "        outputs = model(data)\n",
    "        loss    = criterion(outputs, lbs)\n",
    "        loss.backward()\n",
    "        optimizer.step()\n",
    "        \n",
    "        train_epoch_loss += loss.item()\n",
    "    \n",
    "    with torch.no_grad() :\n",
    "        model.eval()\n",
    "        val_epoch_loss = 0.\n",
    "        \n",
    "        for X_val_batch, y_val_batch in TestLoader :\n",
    "            X_val_batch = X_val_batch.to(device)\n",
    "            y_val_batch = y_val_batch.to(device)\n",
    "            \n",
    "            y_val_pred = model(X_val_batch)\n",
    "            \n",
    "            val_loss = criterion(y_val_pred, y_val_batch)\n",
    "            \n",
    "            val_epoch_loss += val_loss.item()\n",
    "    \n",
    "    avg_train_loss = float(train_epoch_loss) / len(TrainLoader)\n",
    "    avg_val_loss   = float(val_epoch_loss) / len(TestLoader)\n",
    "    \n",
    "    print(f'Epoch {epoch+1}: | Train Acc: {avg_train_loss:.4e} | Test Acc: {avg_val_loss:.4e}')\n",
    "    \n",
    "    if avg_val_loss < best_val_loss :\n",
    "        print(\"Saving Model Checkpoint......\")\n",
    "        best_val_loss = avg_val_loss\n",
    "        torch.save(model.state_dict(), model_checkpoint)\n",
    "\n",
    "print(\"Training Complete!\")"
   ]
  },
  {
   "cell_type": "markdown",
   "id": "ef1057fb",
   "metadata": {},
   "source": [
    "### Constructing AMC Adversarial Detector"
   ]
  },
  {
   "cell_type": "code",
   "execution_count": null,
   "id": "299f4917",
   "metadata": {},
   "outputs": [],
   "source": [
    "# EPS for FGSM attack\n",
    "curr_attack = \"FGSM_Linfinity\"\n",
    "eps_values = np.array([0.000, 0.001, 0.002, 0.003, 0.005, 0.007, \n",
    "                       0.010, 0.020, 0.030])\n",
    "\n",
    "device = torch.device(\"cuda\" if torch.cuda.is_available() else \"cpu\")\n",
    "print(\"Current Device: \", device)\n",
    "print(torch.cuda.get_device_name(torch.cuda.current_device()))\n",
    "\n",
    "filename = \"RML2016.10b.dat\"\n",
    "snrs, mods, X, labels = process_data(filename)\n",
    "\n",
    "x_train, x_test, y_train, y_test, test_labels, test_idx = train_test_split(X, labels, mods)\n",
    "\n",
    "train_dataset = TensorDataset(x_train, x_train)\n",
    "test_dataset  = TensorDataset(x_test,  x_test)\n",
    "batch_size = 16\n",
    "TrainLoader = DataLoader(train_dataset, batch_size = batch_size, \n",
    "                         shuffle = False)\n",
    "TestLoader  = DataLoader(test_dataset,  batch_size = batch_size, \n",
    "                         shuffle = False)\n",
    "\n",
    "model = CNN(input_size = 128)\n",
    "model.load_state_dict(torch.load(\"CNN_base.pt\"))\n",
    "model = model.to(device)\n",
    "encoder = AUTOENCODER()\n",
    "encoder.load_state_dict(torch.load(\"AUTOENCODER.pt\"))\n",
    "encoder.to(device)\n",
    "criterion  = nn.MSELoss()\n",
    "\n",
    "T = []\n",
    "for eps in eps_values:\n",
    "    E = []\n",
    "    for batch_idx, (data, lbs) in enumerate(TrainLoader) :\n",
    "        data = data.to(device)\n",
    "        lbs = lbs.to(device)\n",
    "\n",
    "        #FGSM L-infinity Adversarial Retraining\n",
    "        adv_data = FGSM_Linf_attack(model, device, data, labels, eps)\n",
    "\n",
    "        outputs = encoder(adv_data)\n",
    "        loss = criterion(outputs,lbs)\n",
    "        E.append(loss)\n",
    "    \n",
    "    T.append(max(E))"
   ]
  },
  {
   "cell_type": "markdown",
   "id": "10a60c2b",
   "metadata": {},
   "source": [
    "### Applying AMC Adversarial Detector"
   ]
  },
  {
   "cell_type": "code",
   "execution_count": null,
   "id": "8f9d3f18",
   "metadata": {},
   "outputs": [],
   "source": [
    "encoder = AUTOENCODER()\n",
    "encoder.load_state_dict(torch.load(\"AUTOENCODER.pt\"))\n",
    "encoder.to(device)\n",
    "\n",
    "encoder.eval()\n",
    "\n",
    "dtct_rate = []\n",
    "for i in range(len(eps_values)) \n",
    "    detect_num = 0\n",
    "    all_num = 0\n",
    "    for X_val_batch, y_val_batch in TestLoader :\n",
    "        X_val_batch = X_val_batch.to(device)\n",
    "        y_val_batch = y_val_batch.to(device)\n",
    "        \n",
    "        adv_x = FGSM_Linf_attack(model, device, x_val_batch, y_val_batch, eps)\n",
    "        y_val_pred = encoder(adv_x)\n",
    "        val_loss = criterion(y_val_pred, adv_x)\n",
    "\n",
    "        if val_loss > T:\n",
    "            detect_num += 1\n",
    "        all_num += 1\n",
    "    \n",
    "    detection_rate = float(detect_num) / float(all_num)  \n",
    "    print(f'eps value {eps_values[i]}: Detection rate: {detection_rate:.3f}')   \n",
    "    dtct_rate.append(detection_rate)\n",
    "\n",
    "print(dict_rate)\n"
   ]
  },
  {
   "cell_type": "code",
   "execution_count": null,
   "id": "624f35d1",
   "metadata": {},
   "outputs": [],
   "source": []
  }
 ],
 "metadata": {
  "kernelspec": {
   "display_name": "Python 3 (ipykernel)",
   "language": "python",
   "name": "python3"
  },
  "language_info": {
   "codemirror_mode": {
    "name": "ipython",
    "version": 3
   },
   "file_extension": ".py",
   "mimetype": "text/x-python",
   "name": "python",
   "nbconvert_exporter": "python",
   "pygments_lexer": "ipython3",
   "version": "3.6.9"
  }
 },
 "nbformat": 4,
 "nbformat_minor": 5
}
