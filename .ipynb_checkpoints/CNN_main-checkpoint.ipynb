{
 "cells": [
  {
   "cell_type": "code",
   "execution_count": 1,
   "id": "a8ff5e39",
   "metadata": {},
   "outputs": [],
   "source": [
    "import numpy as np\n",
    "import seaborn as sns\n",
    "import _pickle as cPickle\n",
    "import matplotlib.pyplot as plt\n",
    "%matplotlib inline\n",
    "\n",
    "import datetime\n",
    "import warnings\n",
    "import os, random\n",
    "warnings.filterwarnings(\"ignore\")\n",
    "\n",
    "import torch\n",
    "import torch.nn as nn\n",
    "import torch.optim as optim\n",
    "import torch.nn.functional as F\n",
    "\n",
    "from models import CNN\n",
    "from models import RNN\n",
    "from models import AUTOENCODER\n",
    "from attacks import gradient_wrt_data\n",
    "from attacks import FGSM_Linf_attack\n",
    "from attacks import FGSM_L2_attack\n",
    "from utilities import process_data\n",
    "from utilities import train_test_split\n",
    "from utilities import evaluate_model\n",
    "from utilities import evaluate_accuracy\n",
    "from utilities import plot_confusion_matrix\n",
    "from utilities import predict_wrt_snr\n",
    "from utilities import plot_snr_accuracy\n",
    "\n",
    "from torchsummary import summary\n",
    "from sklearn.metrics import confusion_matrix\n",
    "from sklearn.metrics import classification_report\n",
    "from torch.utils.data import DataLoader, TensorDataset"
   ]
  },
  {
   "cell_type": "code",
   "execution_count": 2,
   "id": "b8f05493",
   "metadata": {},
   "outputs": [
    {
     "name": "stdout",
     "output_type": "stream",
     "text": [
      "Current Device:  cuda\n",
      "NVIDIA GeForce RTX 2070 with Max-Q Design\n"
     ]
    }
   ],
   "source": [
    "seed = 5\n",
    "np.random.seed(seed)\n",
    "torch.manual_seed(seed)\n",
    "\n",
    "device = torch.device(\"cuda\" if torch.cuda.is_available() else \"cpu\")\n",
    "print(\"Current Device: \", device)\n",
    "print(torch.cuda.get_device_name(torch.cuda.current_device()))"
   ]
  },
  {
   "cell_type": "code",
   "execution_count": 3,
   "id": "bd6a9b6c",
   "metadata": {},
   "outputs": [],
   "source": [
    "filename = \"RML2016.10b.dat\"\n",
    "snrs, mods, X, labels = process_data(filename)"
   ]
  },
  {
   "cell_type": "code",
   "execution_count": 4,
   "id": "4745b09a",
   "metadata": {},
   "outputs": [],
   "source": [
    "curr_model = \"CNN\"\n",
    "\n",
    "subsample = 1.0\n",
    "# subsample = 0.5\n",
    "# subsample = 0.25\n",
    "# subsample = 0.125"
   ]
  },
  {
   "cell_type": "code",
   "execution_count": 5,
   "id": "f854ab3d",
   "metadata": {},
   "outputs": [
    {
     "name": "stdout",
     "output_type": "stream",
     "text": [
      "torch.Size([480000, 1, 2, 128])\n",
      "torch.Size([120000, 1, 2, 128])\n",
      "torch.Size([480000])\n",
      "torch.Size([120000])\n"
     ]
    }
   ],
   "source": [
    "x_train, x_test, y_train, y_test, test_labels, test_idx = train_test_split(X, labels, mods, NN = curr_model)\n",
    "\n",
    "#####################################################################\n",
    "# Apply subsampling to x_train and x_test\n",
    "\n",
    "#####################################################################\n",
    "\n",
    "print(x_train.shape)\n",
    "print(x_test.shape)\n",
    "print(y_train.shape)\n",
    "print(y_test.shape)"
   ]
  },
  {
   "cell_type": "code",
   "execution_count": 6,
   "id": "e5efcdd8",
   "metadata": {},
   "outputs": [],
   "source": [
    "if curr_model == \"CNN\" :\n",
    "    batch_size = 256    \n",
    "    if subsample == 1.0 : \n",
    "        model = CNN(input_size = 128).to(device = device)\n",
    "        model_checkpoint = \"CNN_base.pt\"\n",
    "    if subsample == 0.5 :\n",
    "        model = CNN(input_size = 64).to(device = device)\n",
    "        model_checkpoint = \"CNN_base_sub12.pt\"\n",
    "    if subsample == 0.25 :\n",
    "        model = CNN(input_size = 32).to(device = device)\n",
    "        model_checkpoint = \"CNN_base_sub14.pt\"\n",
    "    if subsample == 0.125 :\n",
    "        model = CNN(input_size = 16).to(device = device)\n",
    "        model_checkpoint = \"CNN_base_sub18.pt\"\n",
    "\n",
    "num_epochs = 100\n",
    "criterion  = nn.CrossEntropyLoss()\n",
    "optimizer  = optim.Adam(model.parameters(), lr = 0.001)\n",
    "\n",
    "train_dataset = TensorDataset(x_train, y_train.type(torch.LongTensor))\n",
    "test_dataset  = TensorDataset(x_test,  y_test.type(torch.LongTensor))\n",
    "\n",
    "TrainLoader = DataLoader(train_dataset, batch_size = batch_size, \n",
    "                         shuffle = False)\n",
    "TestLoader  = DataLoader(test_dataset,  batch_size = batch_size, \n",
    "                         shuffle = False)"
   ]
  },
  {
   "cell_type": "markdown",
   "id": "fbea9947",
   "metadata": {},
   "source": [
    "### Baseline Model Training"
   ]
  },
  {
   "cell_type": "code",
   "execution_count": null,
   "id": "bde36e0f",
   "metadata": {},
   "outputs": [],
   "source": [
    "num_epochs   = 100\n",
    "best_val_acc = 0.\n",
    "criterion    = nn.CrossEntropyLoss()\n",
    "optimizer    = optim.Adam(model.parameters(), lr = 0.001)\n",
    "\n",
    "for epoch in range(num_epochs) :\n",
    "    model.train()\n",
    "    train_epoch_loss = 0.\n",
    "    train_epoch_acc  = 0.\n",
    "    for batch_idx, (data, labels) in enumerate(TrainLoader) :\n",
    "        data   = data.to(device)\n",
    "        labels = labels.to(device)\n",
    "        \n",
    "        optimizer.zero_grad()\n",
    "        outputs = model(data)\n",
    "        loss    = criterion(outputs, labels)\n",
    "        acc     = evaluate_accuracy(outputs, labels)\n",
    "        loss.backward()\n",
    "        optimizer.step()\n",
    "        \n",
    "        train_epoch_loss += loss.item()\n",
    "        train_epoch_acc  += acc.item()\n",
    "    \n",
    "    with torch.no_grad() :\n",
    "        model.eval()\n",
    "        val_epoch_loss = 0.\n",
    "        val_epoch_acc  = 0.\n",
    "        \n",
    "        for X_val_batch, y_val_batch in TestLoader :\n",
    "            X_val_batch = X_val_batch.to(device)\n",
    "            y_val_batch = y_val_batch.to(device)\n",
    "            \n",
    "            y_val_pred = model(X_val_batch)\n",
    "            \n",
    "            val_loss = criterion(y_val_pred, y_val_batch)\n",
    "            val_acc  = evaluate_accuracy(y_val_pred, y_val_batch)\n",
    "            \n",
    "            val_epoch_loss += val_loss.item()\n",
    "            val_epoch_acc  += val_acc.item()\n",
    "    \n",
    "    avg_train_loss = float(train_epoch_loss) / len(TrainLoader)\n",
    "    avg_train_acc  = float(train_epoch_acc) / len(TrainLoader)\n",
    "    avg_val_loss   = float(val_epoch_loss) / len(TestLoader)\n",
    "    avg_val_acc    = float(val_epoch_acc) / len(TestLoader)\n",
    "    \n",
    "    print(f'Epoch {epoch+1}: | Train Acc: {avg_train_acc:.3f} | Test Acc: {avg_val_acc:.3f}')\n",
    "    \n",
    "    if avg_val_acc > best_val_acc :\n",
    "        print(\"Saving Model Checkpoint......\")\n",
    "        best_val_acc = avg_val_acc\n",
    "        torch.save(model.state_dict(), model_checkpoint)\n",
    "\n",
    "print(\"Training Complete!\")"
   ]
  },
  {
   "cell_type": "code",
   "execution_count": null,
   "id": "b42cd1b4",
   "metadata": {},
   "outputs": [],
   "source": [
    "##########################################################################"
   ]
  },
  {
   "cell_type": "markdown",
   "id": "4b3510c2",
   "metadata": {},
   "source": [
    "### Baseline Model Testing"
   ]
  },
  {
   "cell_type": "code",
   "execution_count": null,
   "id": "ca894622",
   "metadata": {},
   "outputs": [],
   "source": [
    "cnn_net = CNN()\n",
    "cnn_net.load_state_dict(torch.load(\"CNN_base.pt\"))\n",
    "cnn_net = cnn_net.to(device)"
   ]
  },
  {
   "cell_type": "code",
   "execution_count": null,
   "id": "66329ae8",
   "metadata": {},
   "outputs": [],
   "source": [
    "cnn_acc, cnn_loss, y_preds = evaluate_model(cnn_net, TestLoader, device)\n",
    "y_test_np = y_test.cpu().numpy()\n",
    "print(\"CNN_base Accuracy = %.4f\" % cnn_acc)\n",
    "# print(type(y_preds))\n",
    "# print(type(y_test_np))\n",
    "# print(y_preds.shape)\n",
    "# print(y_test_np.shape)"
   ]
  },
  {
   "cell_type": "code",
   "execution_count": null,
   "id": "e9cfea8e",
   "metadata": {},
   "outputs": [],
   "source": [
    "plot_confusion_matrix(y_tests = y_test.cpu().numpy(), \n",
    "                      y_preds = y_preds, mods = mods)"
   ]
  },
  {
   "cell_type": "code",
   "execution_count": null,
   "id": "78470cf3",
   "metadata": {},
   "outputs": [],
   "source": [
    "acc_dict = plot_snr_accuracy(cnn_net, x_test, labels, test_labels, test_idx, snrs, mods, device)"
   ]
  },
  {
   "cell_type": "code",
   "execution_count": null,
   "id": "27f725a3",
   "metadata": {},
   "outputs": [],
   "source": [
    "###########################################################################"
   ]
  },
  {
   "cell_type": "markdown",
   "id": "306d492a",
   "metadata": {},
   "source": [
    "### Adversarial Attacks"
   ]
  },
  {
   "cell_type": "code",
   "execution_count": 8,
   "id": "9890d6c2",
   "metadata": {},
   "outputs": [],
   "source": [
    "# EPS for FGSM attack\n",
    "curr_attack = \"FGSM_Linfinity\"\n",
    "eps_values = np.array([0.000, 0.001, 0.002, 0.003, 0.005, 0.007, \n",
    "                       0.010, 0.020, 0.030])\n",
    "fgsm_acc = np.zeros(len(eps_values))\n",
    "fgsm_art_acc = np.zeros(len(eps_values))"
   ]
  },
  {
   "cell_type": "code",
   "execution_count": 8,
   "id": "0fd5745c",
   "metadata": {},
   "outputs": [],
   "source": [
    "# EPS for FGM L2 attack\n",
    "curr_attack = \"FGSM_L2\"\n",
    "eps_values = np.array([0.00, 0.01, 0.02, 0.04, 0.06, 0.08, 0.10, \n",
    "                       0.20, 0.30, 0.40, 0.50])\n",
    "fgm_acc = np.zeros(len(eps_values))\n",
    "fgm_art_acc = np.zeros(len(eps_values))"
   ]
  },
  {
   "cell_type": "code",
   "execution_count": 16,
   "id": "8c701b5a",
   "metadata": {},
   "outputs": [
    {
     "name": "stdout",
     "output_type": "stream",
     "text": [
      "Current ATK_EPS Index = 1\n",
      "Current ATK_EPS Index = 2\n",
      "Current ATK_EPS Index = 3\n",
      "Current ATK_EPS Index = 4\n",
      "Current ATK_EPS Index = 5\n",
      "Current ATK_EPS Index = 6\n",
      "Current ATK_EPS Index = 7\n",
      "Current ATK_EPS Index = 8\n",
      "Current ATK_EPS Index = 9\n",
      "Current ATK_EPS Index = 10\n",
      "Current ATK_EPS Index = 11\n",
      "Attack Done!\n"
     ]
    }
   ],
   "source": [
    "whitebox = CNN()\n",
    "\n",
    "#whitebox.load_state_dict(torch.load(\"CNN_base.pt\"))\n",
    "\n",
    "#whitebox.load_state_dict(torch.load(\"CNN_FGSM_ART.pt\"))\n",
    "whitebox.load_state_dict(torch.load(\"CNN_FGML2_ART.pt\"))\n",
    "\n",
    "whitebox = whitebox.to(device)\n",
    "whitebox.eval()\n",
    "for i in range(len(eps_values)) :\n",
    "    print(\"Current ATK_EPS Index = \" + str(i + 1))\n",
    "    ATK_EPS   = eps_values[i]\n",
    "    whitebox_correct = 0\n",
    "    running_total    = 0\n",
    "    for batch_idx, (data, labels) in enumerate(TestLoader) :\n",
    "        data   = data.to(device)\n",
    "        labels = labels.to(device)\n",
    "        \n",
    "        #################################################################\n",
    "        if curr_attack == \"FGSM_Linfinity\" :\n",
    "            # Fast Gradient Sign Method (FGSM) L-infinity Norm Attack\n",
    "            adv_data = FGSM_Linf_attack(whitebox, device, data, \n",
    "                                        labels, eps = ATK_EPS)\n",
    "        if curr_attack == \"FGSM_L2\" :\n",
    "            # Fast Gradient Sign Method (FGSM) L-2 Norm Attack\n",
    "            adv_data = FGSM_L2_attack(whitebox, device, data, labels, \n",
    "                                      eps = ATK_EPS)\n",
    "        #################################################################\n",
    "        \n",
    "        # Compute accuracy on perturbed data\n",
    "        with torch.no_grad() :\n",
    "            whitebox_outputs  = whitebox(adv_data)\n",
    "            _, whitebox_preds = whitebox_outputs.max(1)\n",
    "            whitebox_correct += whitebox_preds.eq(labels).sum().item()\n",
    "            running_total    += labels.size(0)\n",
    "    \n",
    "    whitebox_acc = float(whitebox_correct) / running_total\n",
    "    \n",
    "    if curr_attack == \"FGSM_Linfinity\" :\n",
    "        #fgsm_acc[i] = whitebox_acc\n",
    "        fgsm_art_acc[i] = whitebox_acc\n",
    "    if curr_attack == \"FGSM_L2\" :\n",
    "        #fgm_acc[i] = whitebox_acc\n",
    "        fgm_art_acc[i] = whitebox_acc\n",
    "\n",
    "print(\"Attack Done!\")"
   ]
  },
  {
   "cell_type": "code",
   "execution_count": 12,
   "id": "a92d239f",
   "metadata": {},
   "outputs": [],
   "source": [
    "def plot_summary (base_acc, art_acc, detect_acc, eps_values) :\n",
    "    figure, axis = plt.subplots()\n",
    "    axis.plot(eps_values, base_acc,   label = \"BASE\", linewidth = 3)\n",
    "    axis.plot(eps_values, art_acc,    label = \"ART\",  linewidth = 3)\n",
    "    #axis.plot(eps_values, detect_acc, label = \"DECT\", linewidth = 3)\n",
    "    axis.set_xlabel(\"EPS\", fontsize = 12)\n",
    "    axis.set_ylabel(\"ACC\", fontsize = 12)\n",
    "    axis.set_title(\"SUMMARY\", fontsize = 12)\n",
    "    axis.grid()\n",
    "    figure.set_size_inches(6, 4)\n",
    "    plt.xticks(fontsize = 12)\n",
    "    plt.yticks(fontsize = 12)\n",
    "    plt.legend(fontsize = 12)\n",
    "    plt.show()\n",
    "    return None"
   ]
  },
  {
   "cell_type": "code",
   "execution_count": 13,
   "id": "cc884290",
   "metadata": {},
   "outputs": [],
   "source": [
    "fgsm_acc = np.array([0.90775833, 0.52973333, 0.35055833, 0.248125, 0.14935, \n",
    "                     0.12344167, 0.10616667, 0.08269167, 0.09775833])\n",
    "\n",
    "fgm_acc = np.array([0.90775833, 0.59928333, 0.49648333, 0.28905833, \n",
    "                    0.22471667, 0.20176667, 0.19169167, 0.16296667, 0.13998333, \n",
    "                    0.12625833, 0.11841667])"
   ]
  },
  {
   "cell_type": "code",
   "execution_count": 19,
   "id": "b755507c",
   "metadata": {},
   "outputs": [
    {
     "data": {
      "image/png": "[encoded data removed]",
      "text/plain": [
       "<Figure size 432x288 with 1 Axes>"
      ]
     },
     "metadata": {
      "needs_background": "light"
     },
     "output_type": "display_data"
    }
   ],
   "source": [
    "plot_summary(fgsm_acc, fgsm_art_acc, None, eps_values)"
   ]
  },
  {
   "cell_type": "code",
   "execution_count": 17,
   "id": "6cc2fbf3",
   "metadata": {},
   "outputs": [
    {
     "data": {
      "image/png": "[encoded data removed]",
      "text/plain": [
       "<Figure size 432x288 with 1 Axes>"
      ]
     },
     "metadata": {
      "needs_background": "light"
     },
     "output_type": "display_data"
    }
   ],
   "source": [
    "plot_summary(fgm_acc, fgm_art_acc, None, eps_values)"
   ]
  },
  {
   "cell_type": "code",
   "execution_count": null,
   "id": "b461799f",
   "metadata": {},
   "outputs": [],
   "source": [
    "#########################################################################"
   ]
  },
  {
   "cell_type": "markdown",
   "id": "886eb546",
   "metadata": {},
   "source": [
    "### Adversarial Retraining (Mitigation) & Manifold Learning (Detection)"
   ]
  },
  {
   "cell_type": "code",
   "execution_count": 7,
   "id": "e14c568f",
   "metadata": {
    "scrolled": true
   },
   "outputs": [
    {
     "name": "stdout",
     "output_type": "stream",
     "text": [
      "Epoch 1: | Train Acc: 57.388 | Test Acc: 89.409\n",
      "Saving Model Checkpoint......\n",
      "Epoch 2: | Train Acc: 61.897 | Test Acc: 89.625\n",
      "Saving Model Checkpoint......\n",
      "Epoch 3: | Train Acc: 63.585 | Test Acc: 90.100\n",
      "Saving Model Checkpoint......\n",
      "Epoch 4: | Train Acc: 64.376 | Test Acc: 90.358\n",
      "Saving Model Checkpoint......\n",
      "Epoch 5: | Train Acc: 65.044 | Test Acc: 90.324\n",
      "Adversarial Retraining Complete!\n"
     ]
    }
   ],
   "source": [
    "model = CNN(input_size = 128)\n",
    "model.load_state_dict(torch.load(\"CNN_base.pt\"))\n",
    "model = model.to(device)\n",
    "#model_checkpoint = \"CNN_FGSM_ART.pt\"\n",
    "model_checkpoint = \"CNN_FGML2_ART.pt\"\n",
    "\n",
    "num_epochs   = 5\n",
    "best_val_acc = 0.\n",
    "criterion    = nn.CrossEntropyLoss()\n",
    "optimizer    = optim.Adam(model.parameters(), lr = 0.001)\n",
    "\n",
    "for epoch in range(num_epochs) :\n",
    "    model.train()\n",
    "    train_epoch_loss = 0.\n",
    "    train_epoch_acc  = 0.\n",
    "    for batch_idx, (data, labels) in enumerate(TrainLoader) :\n",
    "        data   = data.to(device)\n",
    "        labels = labels.to(device)\n",
    "        \n",
    "        optimizer.zero_grad()\n",
    "        \n",
    "#         #######################################################################\n",
    "#         # FGSM L-infinity Adversarial Retraining\n",
    "#         adv1_data = FGSM_Linf_attack(model, device, data, labels, eps = 0.001)\n",
    "#         adv2_data = FGSM_Linf_attack(model, device, data, labels, eps = 0.002)\n",
    "#         adv3_data = FGSM_Linf_attack(model, device, data, labels, eps = 0.003)\n",
    "#         adv4_data = FGSM_Linf_attack(model, device, data, labels, eps = 0.005)\n",
    "#         adv5_data = FGSM_Linf_attack(model, device, data, labels, eps = 0.007)\n",
    "#         adv6_data = FGSM_Linf_attack(model, device, data, labels, eps = 0.010)\n",
    "        \n",
    "#         adjdata = torch.vstack((adv1_data, adv2_data, adv3_data, \n",
    "#                                 adv4_data, adv5_data, adv6_data))\n",
    "#         adjlabels = torch.cat((labels, labels, labels, \n",
    "#                                labels, labels, labels))\n",
    "        \n",
    "#         outputs = model(adjdata)\n",
    "#         loss = criterion(outputs, adjlabels)\n",
    "#         acc = evaluate_accuracy(outputs, adjlabels)\n",
    "#         #######################################################################\n",
    "        \n",
    "        #######################################################################\n",
    "        # FGSM L-2 Adversarial Retraining\n",
    "        adv1_data = FGSM_L2_attack(model, device, data, labels, eps = 0.01)\n",
    "        adv2_data = FGSM_L2_attack(model, device, data, labels, eps = 0.02)\n",
    "        adv3_data = FGSM_L2_attack(model, device, data, labels, eps = 0.04)\n",
    "        adv4_data = FGSM_L2_attack(model, device, data, labels, eps = 0.06)\n",
    "        adv5_data = FGSM_L2_attack(model, device, data, labels, eps = 0.08)\n",
    "        adv6_data = FGSM_L2_attack(model, device, data, labels, eps = 0.10)\n",
    "        \n",
    "        adjdata = torch.vstack((adv1_data, adv2_data, adv3_data, \n",
    "                                adv4_data, adv5_data, adv6_data))\n",
    "        adjlabels = torch.cat((labels, labels, labels, \n",
    "                               labels, labels, labels))\n",
    "        \n",
    "        outputs = model(adjdata)\n",
    "        loss = criterion(outputs, adjlabels)\n",
    "        acc = evaluate_accuracy(outputs, adjlabels)\n",
    "        #######################################################################\n",
    "        \n",
    "        \n",
    "        \n",
    "        \n",
    "        loss.backward()\n",
    "        optimizer.step()\n",
    "        \n",
    "        train_epoch_loss += loss.item()\n",
    "        train_epoch_acc  += acc.item()\n",
    "    \n",
    "    with torch.no_grad() :\n",
    "        model.eval()\n",
    "        val_epoch_loss = 0.\n",
    "        val_epoch_acc  = 0.\n",
    "        \n",
    "        for X_val_batch, y_val_batch in TestLoader :\n",
    "            X_val_batch = X_val_batch.to(device)\n",
    "            y_val_batch = y_val_batch.to(device)\n",
    "            \n",
    "            y_val_pred = model(X_val_batch)\n",
    "            \n",
    "            val_loss = criterion(y_val_pred, y_val_batch)\n",
    "            val_acc  = evaluate_accuracy(y_val_pred, y_val_batch)\n",
    "            \n",
    "            val_epoch_loss += val_loss.item()\n",
    "            val_epoch_acc  += val_acc.item()\n",
    "    \n",
    "    avg_train_loss = float(train_epoch_loss) / len(TrainLoader)\n",
    "    avg_train_acc  = float(train_epoch_acc) / len(TrainLoader)\n",
    "    avg_val_loss   = float(val_epoch_loss) / len(TestLoader)\n",
    "    avg_val_acc    = float(val_epoch_acc) / len(TestLoader)\n",
    "    \n",
    "    print(f'Epoch {epoch+1}: | Train Acc: {avg_train_acc:.3f} | Test Acc: {avg_val_acc:.3f}')\n",
    "    \n",
    "    #torch.save(model.state_dict(), model_checkpoint)\n",
    "    \n",
    "    if avg_val_acc > best_val_acc :\n",
    "        print(\"Saving Model Checkpoint......\")\n",
    "        best_val_acc = avg_val_acc\n",
    "        torch.save(model.state_dict(), model_checkpoint)\n",
    "\n",
    "print(\"Adversarial Retraining Complete!\")"
   ]
  },
  {
   "cell_type": "markdown",
   "id": "487b76af",
   "metadata": {},
   "source": [
    "### Autoencoder Training"
   ]
  },
  {
   "cell_type": "code",
   "execution_count": null,
   "id": "56bce617",
   "metadata": {},
   "outputs": [],
   "source": [
    "model = AUTOENCODER()\n",
    "num_epochs = 100\n",
    "criterion  = nn.MSELoss()\n",
    "optimizer  = optim.SGD(model.parameters(), lr = 0.001)\n",
    "batch_size = 256\n",
    "train_dataset = TensorDataset(x_train, x_train)\n",
    "test_dataset  = TensorDataset(x_test,  x_test)\n",
    "\n",
    "TrainLoader = DataLoader(train_dataset, batch_size = batch_size, \n",
    "                         shuffle = False)\n",
    "TestLoader  = DataLoader(test_dataset,  batch_size = batch_size, \n",
    "                         shuffle = False)\n",
    "\n",
    "best_val_acc = 0.\n",
    "\n",
    "for epoch in range(num_epochs) :\n",
    "    model.train()\n",
    "    train_epoch_loss = 0.\n",
    "    train_epoch_acc  = 0.\n",
    "    for batch_idx, (data, labels) in enumerate(TrainLoader) :\n",
    "        data   = data.to(device)\n",
    "        labels = labels.to(device)\n",
    "        \n",
    "        optimizer.zero_grad()\n",
    "        outputs = model(data)\n",
    "        loss    = criterion(outputs, labels)\n",
    "        acc     = evaluate_accuracy(outputs, labels)\n",
    "        loss.backward()\n",
    "        optimizer.step()\n",
    "        \n",
    "        train_epoch_loss += loss.item()\n",
    "        train_epoch_acc  += acc.item()\n",
    "    \n",
    "    with torch.no_grad() :\n",
    "        model.eval()\n",
    "        val_epoch_loss = 0.\n",
    "        val_epoch_acc  = 0.\n",
    "        \n",
    "        for X_val_batch, y_val_batch in TestLoader :\n",
    "            X_val_batch = X_val_batch.to(device)\n",
    "            y_val_batch = y_val_batch.to(device)\n",
    "            \n",
    "            y_val_pred = model(X_val_batch)\n",
    "            \n",
    "            val_loss = criterion(y_val_pred, y_val_batch)\n",
    "            val_acc  = evaluate_accuracy(y_val_pred, y_val_batch)\n",
    "            \n",
    "            val_epoch_loss += val_loss.item()\n",
    "            val_epoch_acc  += val_acc.item()\n",
    "    \n",
    "    avg_train_loss = float(train_epoch_loss) / len(TrainLoader)\n",
    "    avg_train_acc  = float(train_epoch_acc) / len(TrainLoader)\n",
    "    avg_val_loss   = float(val_epoch_loss) / len(TestLoader)\n",
    "    avg_val_acc    = float(val_epoch_acc) / len(TestLoader)\n",
    "    \n",
    "    print(f'Epoch {epoch+1}: | Train Acc: {avg_train_acc:.3f} | Test Acc: {avg_val_acc:.3f}')\n",
    "    \n",
    "    if avg_val_acc > best_val_acc :\n",
    "        print(\"Saving Model Checkpoint......\")\n",
    "        best_val_acc = avg_val_acc\n",
    "        torch.save(model.state_dict(), model_checkpoint)\n",
    "\n",
    "print(\"Training Complete!\")"
   ]
  },
  {
   "cell_type": "code",
   "execution_count": null,
   "id": "a6e4ef9b",
   "metadata": {},
   "outputs": [],
   "source": []
  },
  {
   "cell_type": "code",
   "execution_count": null,
   "id": "90258945",
   "metadata": {},
   "outputs": [],
   "source": []
  }
 ],
 "metadata": {
  "kernelspec": {
   "display_name": "Python 3 (ipykernel)",
   "language": "python",
   "name": "python3"
  },
  "language_info": {
   "codemirror_mode": {
    "name": "ipython",
    "version": 3
   },
   "file_extension": ".py",
   "mimetype": "text/x-python",
   "name": "python",
   "nbconvert_exporter": "python",
   "pygments_lexer": "ipython3",
   "version": "3.8.12"
  }
 },
 "nbformat": 4,
 "nbformat_minor": 5
}
