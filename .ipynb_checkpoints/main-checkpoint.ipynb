{
 "cells": [
  {
   "cell_type": "code",
   "execution_count": 1,
   "id": "a8ff5e39",
   "metadata": {},
   "outputs": [],
   "source": [
    "import numpy as np\n",
    "import seaborn as sns\n",
    "import _pickle as cPickle\n",
    "import matplotlib.pyplot as plt\n",
    "%matplotlib inline\n",
    "\n",
    "import datetime\n",
    "import warnings\n",
    "import os, random\n",
    "warnings.filterwarnings(\"ignore\")\n",
    "\n",
    "import torch\n",
    "import torch.nn as nn\n",
    "import torch.optim as optim\n",
    "import torch.nn.functional as F\n",
    "\n",
    "from models import CNN\n",
    "from models import RNN\n",
    "from attacks import gradient_wrt_data\n",
    "from attacks import PGD_attack\n",
    "from attacks import FGSM_attack\n",
    "from attacks import FGM_L2_attack\n",
    "from utilities import process_data\n",
    "from utilities import train_test_split\n",
    "from utilities import evaluate_model\n",
    "from utilities import evaluate_accuracy\n",
    "\n",
    "from torchsummary import summary\n",
    "from sklearn.metrics import confusion_matrix\n",
    "from sklearn.metrics import classification_report\n",
    "from torch.utils.data import DataLoader, TensorDataset"
   ]
  },
  {
   "cell_type": "code",
   "execution_count": 2,
   "id": "b8f05493",
   "metadata": {},
   "outputs": [
    {
     "name": "stdout",
     "output_type": "stream",
     "text": [
      "Current Device:  cuda\n",
      "NVIDIA GeForce RTX 2070 with Max-Q Design\n"
     ]
    }
   ],
   "source": [
    "seed = 5\n",
    "np.random.seed(seed)\n",
    "torch.manual_seed(seed)\n",
    "\n",
    "device = torch.device(\"cuda\" if torch.cuda.is_available() else \"cpu\")\n",
    "print(\"Current Device: \", device)\n",
    "print(torch.cuda.get_device_name(torch.cuda.current_device()))"
   ]
  },
  {
   "cell_type": "code",
   "execution_count": 3,
   "id": "bd6a9b6c",
   "metadata": {},
   "outputs": [],
   "source": [
    "filename = \"RML2016.10b.dat\"\n",
    "snrs, mods, X, labels = process_data(filename)"
   ]
  },
  {
   "cell_type": "code",
   "execution_count": 4,
   "id": "c69e2ca7",
   "metadata": {},
   "outputs": [
    {
     "name": "stdout",
     "output_type": "stream",
     "text": [
      "<class 'numpy.ndarray'>\n",
      "<class 'list'>\n",
      "<class 'numpy.ndarray'>\n",
      "<class 'list'>\n",
      "(10,)\n",
      "10\n",
      "(600000, 2, 128)\n",
      "600000\n"
     ]
    }
   ],
   "source": [
    "print(type(snrs))\n",
    "print(type(mods))\n",
    "print(type(X))\n",
    "print(type(labels))\n",
    "print(snrs.shape)\n",
    "print(len(mods))\n",
    "print(X.shape)\n",
    "print(len(labels))"
   ]
  },
  {
   "cell_type": "code",
   "execution_count": 5,
   "id": "4745b09a",
   "metadata": {},
   "outputs": [],
   "source": [
    "curr_model = \"CNN\"\n",
    "# curr_model = \"RNN\"\n",
    "\n",
    "subsample = 1.0\n",
    "# subsample = 0.5\n",
    "# subsample = 0.25\n",
    "# subsample = 0.125"
   ]
  },
  {
   "cell_type": "code",
   "execution_count": 6,
   "id": "f854ab3d",
   "metadata": {},
   "outputs": [
    {
     "name": "stdout",
     "output_type": "stream",
     "text": [
      "torch.Size([480000, 1, 2, 128])\n",
      "torch.Size([120000, 1, 2, 128])\n",
      "torch.Size([480000])\n",
      "torch.Size([120000])\n"
     ]
    }
   ],
   "source": [
    "x_train, x_test, y_train, y_test = train_test_split(X, labels, mods, \n",
    "                                                    NN = curr_model)\n",
    "\n",
    "#####################################################################\n",
    "# Apply subsampling to x_train and x_test\n",
    "\n",
    "#####################################################################\n",
    "\n",
    "print(x_train.shape)\n",
    "print(x_test.shape)\n",
    "print(y_train.shape)\n",
    "print(y_test.shape)"
   ]
  },
  {
   "cell_type": "code",
   "execution_count": 7,
   "id": "e5efcdd8",
   "metadata": {},
   "outputs": [],
   "source": [
    "if curr_model == \"CNN\" :\n",
    "    batch_size = 256\n",
    "    if subsample == 1.0 : \n",
    "        model = CNN(input_size = 128).to(device = device)\n",
    "        model_checkpoint = \"CNN_base.pt\"\n",
    "    if subsample == 0.5 :\n",
    "        model = CNN(input_size = 64).to(device = device)\n",
    "        model_checkpoint = \"CNN_base_sub12.pt\"\n",
    "    if subsample == 0.25 :\n",
    "        model = CNN(input_size = 32).to(device = device)\n",
    "        model_checkpoint = \"CNN_base_sub14.pt\"\n",
    "    if subsample == 0.125 :\n",
    "        model = CNN(input_size = 16).to(device = device)\n",
    "        model_checkpoint = \"CNN_base_sub18.pt\"\n",
    "\n",
    "if curr_model == \"RNN\" :\n",
    "    batch_size = 64\n",
    "    if subsample == 1.0 : \n",
    "        model = RNN(input_size = 128).to(device = device)\n",
    "        model_checkpoint = \"RNN_base.pt\"\n",
    "    if subsample == 0.5 :\n",
    "        model = RNN(input_size = 64).to(device = device)\n",
    "        model_checkpoint = \"RNN_base_sub12.pt\"\n",
    "    if subsample == 0.25 :\n",
    "        model = RNN(input_size = 32).to(device = device)\n",
    "        model_checkpoint = \"RNN_base_sub14.pt\"\n",
    "    if subsample == 0.125 :\n",
    "        model = RNN(input_size = 16).to(device = device)\n",
    "        model_checkpoint = \"RNN_base_sub18.pt\"\n",
    "\n",
    "num_epochs = 100\n",
    "criterion  = nn.CrossEntropyLoss()\n",
    "optimizer  = optim.Adam(model.parameters(), lr = 0.001)\n",
    "\n",
    "train_dataset = TensorDataset(x_train, y_train.type(torch.LongTensor))\n",
    "test_dataset  = TensorDataset(x_test,  y_test.type(torch.LongTensor))\n",
    "\n",
    "TrainLoader = DataLoader(train_dataset, batch_size = batch_size, \n",
    "                         shuffle = False)\n",
    "TestLoader  = DataLoader(test_dataset,  batch_size = batch_size, \n",
    "                         shuffle = False)"
   ]
  },
  {
   "cell_type": "code",
   "execution_count": null,
   "id": "573245cb",
   "metadata": {},
   "outputs": [],
   "source": [
    "##############################################################"
   ]
  },
  {
   "cell_type": "code",
   "execution_count": null,
   "id": "bde36e0f",
   "metadata": {},
   "outputs": [],
   "source": [
    "num_epochs   = 100\n",
    "best_val_acc = 0.\n",
    "criterion    = nn.CrossEntropyLoss()\n",
    "optimizer    = optim.Adam(model.parameters(), lr = 0.001)\n",
    "\n",
    "for epoch in range(num_epochs) :\n",
    "    model.train()\n",
    "    train_epoch_loss = 0.\n",
    "    train_epoch_acc  = 0.\n",
    "    for batch_idx, (data, labels) in enumerate(TrainLoader) :\n",
    "        data   = data.to(device)\n",
    "        labels = labels.to(device)\n",
    "        \n",
    "        optimizer.zero_grad()\n",
    "        outputs = model(data)\n",
    "        loss    = criterion(outputs, labels)\n",
    "        acc     = evaluate_accuracy(outputs, labels)\n",
    "        loss.backward()\n",
    "        optimizer.step()\n",
    "        \n",
    "        train_epoch_loss += loss.item()\n",
    "        train_epoch_acc  += acc.item()\n",
    "    \n",
    "    with torch.no_grad() :\n",
    "        model.eval()\n",
    "        val_epoch_loss = 0.\n",
    "        val_epoch_acc  = 0.\n",
    "        \n",
    "        for X_val_batch, y_val_batch in TestLoader :\n",
    "            X_val_batch = X_val_batch.to(device)\n",
    "            y_val_batch = y_val_batch.to(device)\n",
    "            \n",
    "            y_val_pred = model(X_val_batch)\n",
    "            \n",
    "            val_loss = criterion(y_val_pred, y_val_batch)\n",
    "            val_acc  = evaluate_accuracy(y_val_pred, y_val_batch)\n",
    "            \n",
    "            val_epoch_loss += val_loss.item()\n",
    "            val_epoch_acc  += val_acc.item()\n",
    "    \n",
    "    avg_train_loss = float(train_epoch_loss) / len(TrainLoader)\n",
    "    avg_train_acc  = float(train_epoch_acc) / len(TrainLoader)\n",
    "    avg_val_loss   = float(val_epoch_loss) / len(TestLoader)\n",
    "    avg_val_acc    = float(val_epoch_acc) / len(TestLoader)\n",
    "    \n",
    "    print(f'Epoch {epoch+1}: | Train Acc: {avg_train_acc:.3f} | Test Acc: {avg_val_acc:.3f}')\n",
    "    \n",
    "    if avg_val_acc > best_val_acc :\n",
    "        print(\"Saving Model Checkpoint......\")\n",
    "        best_val_acc = avg_val_acc\n",
    "        torch.save(model.state_dict(), model_checkpoint)\n",
    "\n",
    "print(\"Training Complete!\")"
   ]
  },
  {
   "cell_type": "code",
   "execution_count": null,
   "id": "2c9d0ce0",
   "metadata": {},
   "outputs": [],
   "source": [
    "##############################################################"
   ]
  },
  {
   "cell_type": "code",
   "execution_count": 8,
   "id": "ca894622",
   "metadata": {},
   "outputs": [
    {
     "data": {
      "text/plain": [
       "<All keys matched successfully>"
      ]
     },
     "execution_count": 8,
     "metadata": {},
     "output_type": "execute_result"
    }
   ],
   "source": [
    "cnn_net = CNN().to(device)\n",
    "cnn_net.load_state_dict(torch.load(\"CNN_base.pt\"))\n",
    "\n",
    "rnn_net = RNN().to(device)\n",
    "rnn_net.load_state_dict(torch.load(\"RNN_base.pt\"))"
   ]
  },
  {
   "cell_type": "code",
   "execution_count": 9,
   "id": "66329ae8",
   "metadata": {},
   "outputs": [
    {
     "name": "stdout",
     "output_type": "stream",
     "text": [
      "CNN_base Accuracy = 0.9078\n"
     ]
    }
   ],
   "source": [
    "cnn_acc, cnn_loss = evaluate_model(cnn_net, TestLoader, device)\n",
    "print(\"CNN_base Accuracy = %.4f\" % cnn_acc)\n",
    "\n",
    "# rnn_acc, rnn_loss = evaluate_model(rnn_net, TestLoader, device)\n",
    "# print(\"RNN_base Accuracy = %.4f\" % rnn_acc)"
   ]
  },
  {
   "cell_type": "code",
   "execution_count": null,
   "id": "0cca202b",
   "metadata": {},
   "outputs": [],
   "source": []
  },
  {
   "cell_type": "code",
   "execution_count": null,
   "id": "e9cfea8e",
   "metadata": {},
   "outputs": [],
   "source": []
  },
  {
   "cell_type": "code",
   "execution_count": null,
   "id": "78470cf3",
   "metadata": {},
   "outputs": [],
   "source": []
  }
 ],
 "metadata": {
  "kernelspec": {
   "display_name": "Python 3 (ipykernel)",
   "language": "python",
   "name": "python3"
  },
  "language_info": {
   "codemirror_mode": {
    "name": "ipython",
    "version": 3
   },
   "file_extension": ".py",
   "mimetype": "text/x-python",
   "name": "python",
   "nbconvert_exporter": "python",
   "pygments_lexer": "ipython3",
   "version": "3.9.7"
  }
 },
 "nbformat": 4,
 "nbformat_minor": 5
}
